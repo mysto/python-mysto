{
 "cells": [
  {
   "cell_type": "code",
   "execution_count": null,
   "id": "composed-electric",
   "metadata": {},
   "outputs": [],
   "source": [
    "import main\n",
    "\n",
    "df=main.local_load_csv('../demo/CCSampleData.csv', {\"Zipcode\": str}, date_types=['Birth Date'])\n",
    "df"
   ]
  },
  {
   "cell_type": "code",
   "execution_count": null,
   "id": "unauthorized-mileage",
   "metadata": {},
   "outputs": [],
   "source": [
    "# Configure HIPAA rules for zip code and birth date\n",
    "\n",
    "rules = [\n",
    "    '{\"column\" : \"Zipcode\", \"type\" : \"us_zipcode\"}',\n",
    "    '{\"column\" : \"Birth Date\", \"type\" : \"Generalize.Date\", \"format\" : \"5\"}',\n",
    "]\n",
    "\n",
    "df1 = main.anonymize(df, rules)\n",
    "df1"
   ]
  },
  {
   "cell_type": "code",
   "execution_count": null,
   "id": "ahead-there",
   "metadata": {},
   "outputs": [],
   "source": [
    "# Add rules for clipping and masking\n",
    "\n",
    "rules = [\n",
    "    '{\"column\" : \"Zipcode\", \"type\" : \"us_zipcode\"}',\n",
    "    '{\"column\" : \"Birth Date\", \"type\" : \"Generalize.Date\", \"format\" : \"5\"}',\n",
    "    \n",
    "    '{\"column\" : \"First name\", \"type\" : \"clipl\", \"n\" : \"1\"}',\n",
    "    '{\"column\" : \"Last name\", \"type\" : \"clipl\", \"n\" : \"3\"}',\n",
    "    '{\"column\" : \"Acct num\", \"type\" : \"Mask\", \"format\" : \"5\"}'\n",
    "]\n",
    "\n",
    "df2 = main.anonymize(df, rules)\n",
    "df2"
   ]
  },
  {
   "cell_type": "code",
   "execution_count": null,
   "id": "saving-premiere",
   "metadata": {},
   "outputs": [],
   "source": [
    "# Add rules for format preserving encryption\n",
    "\n",
    "rules = [\n",
    "    '{\"column\" : \"Zipcode\", \"type\" : \"us_zipcode\"}',\n",
    "    '{\"column\" : \"Birth Date\", \"type\" : \"Generalize.Date\", \"format\" : \"5\"}',\n",
    "    \n",
    "    '{\"column\" : \"First name\", \"type\" : \"clipl\", \"n\" : \"1\"}',\n",
    "    '{\"column\" : \"Last name\", \"type\" : \"clipl\", \"n\" : \"3\"}',\n",
    "    '{\"column\" : \"Acct num\", \"type\" : \"Mask\", \"format\" : \"5\"}',\n",
    "    \n",
    "    '{\"column\" : \"SSN\", \"type\" : \"FF3\", \"format\" : \"000-00-0000\", \"sep\" : \"-\"}',\n",
    "    '{\"column\" : \"Canadian SIN\", \"type\" : \"FF3\", \"format\" : \"000-000-000\"}',\n",
    "    '{\"column\" : \"Acct num\", \"type\" : \"Mask\", \"format\" : \"5\"}'\n",
    "]\n",
    "\n",
    "main.initialize_fpe(\"EF4359D8D580AA4F7F036D6F04FC6A94\", \"D8E7920AFA330A73\")\n",
    "\n",
    "df3 = main.anonymize(df, rules)\n",
    "df3"
   ]
  },
  {
   "cell_type": "code",
   "execution_count": null,
   "id": "pacific-infrared",
   "metadata": {},
   "outputs": [],
   "source": []
  }
 ],
 "metadata": {
  "kernelspec": {
   "display_name": "Python 3",
   "language": "python",
   "name": "python3"
  },
  "language_info": {
   "codemirror_mode": {
    "name": "ipython",
    "version": 3
   },
   "file_extension": ".py",
   "mimetype": "text/x-python",
   "name": "python",
   "nbconvert_exporter": "python",
   "pygments_lexer": "ipython3",
   "version": "3.9.2"
  }
 },
 "nbformat": 4,
 "nbformat_minor": 5
}
